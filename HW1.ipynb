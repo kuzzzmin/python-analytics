{
 "cells": [
  {
   "attachments": {},
   "cell_type": "markdown",
   "metadata": {},
   "source": [
    "## Условие 1\n",
    "Оформляйте ноутбук, используя эти советы:\n",
    "Номер задачи - ## заголовок 2\n",
    "Номер подзадачи - ### заголовок 3\n",
    "Предоставленные наборы данных оформляйте как код"
   ]
  },
  {
   "attachments": {},
   "cell_type": "markdown",
   "metadata": {},
   "source": [
    "## Условие 2 \n",
    "На складе лежат разные фрукты в разном количестве. Нужно написать функцию, которая на вход принимает любое количество названий фруктов и их количество, а возвращает общее количество фруктов на складе."
   ]
  },
  {
   "cell_type": "code",
   "execution_count": 11,
   "metadata": {},
   "outputs": [
    {
     "name": "stdout",
     "output_type": "stream",
     "text": [
      "Total fructus: 85\n",
      "None\n"
     ]
    }
   ],
   "source": [
    "def fructus(**kwargs):\n",
    "    total_fructus = sum(kwargs.values())\n",
    "    return f'Total fructus: {total_fructus}'\n",
    "print(print(fructus(apples=26, pears=18, bananas=41)))"
   ]
  },
  {
   "attachments": {},
   "cell_type": "markdown",
   "metadata": {},
   "source": [
    "## Условие 3\n",
    "Дан список с затратами на рекламу. Но в данных есть ошибки, некоторые затраты имеют отрицательную величину. Удалите такие значения из списка и посчитайте суммарные затраты.\n",
    "[100, 125, -90, 345, 655, -1, 0, 200]"
   ]
  },
  {
   "cell_type": "code",
   "execution_count": 26,
   "metadata": {},
   "outputs": [
    {
     "name": "stdout",
     "output_type": "stream",
     "text": [
      "[100, 125, 345, 655, 200]\n",
      "Total expenses: 1425\n"
     ]
    }
   ],
   "source": [
    "def expenses(data: list): data = [100, 125, -90, 345, 655, -1, 0, 200]\n",
    "expenses(data)\n",
    "new_data = []\n",
    "for i in data:\n",
    "        if i > 0:\n",
    "            new_data.append(i)\n",
    "print(new_data)\n",
    "print(f'Total expenses: {sum(new_data)}')\n",
    "        "
   ]
  },
  {
   "cell_type": "code",
   "execution_count": 29,
   "metadata": {},
   "outputs": [
    {
     "name": "stdout",
     "output_type": "stream",
     "text": [
      "Total expenses: 1425\n"
     ]
    }
   ],
   "source": [
    "def expenses(data: list): \n",
    "    data = [100, 125, -90, 345, 655, -1, 0, 200]\n",
    "print(f'Total expenses: {sum([i for i in data if i > 0 ])}')"
   ]
  }
 ],
 "metadata": {
  "kernelspec": {
   "display_name": "Python 3",
   "language": "python",
   "name": "python3"
  },
  "language_info": {
   "codemirror_mode": {
    "name": "ipython",
    "version": 3
   },
   "file_extension": ".py",
   "mimetype": "text/x-python",
   "name": "python",
   "nbconvert_exporter": "python",
   "pygments_lexer": "ipython3",
   "version": "3.11.1"
  },
  "orig_nbformat": 4
 },
 "nbformat": 4,
 "nbformat_minor": 2
}
